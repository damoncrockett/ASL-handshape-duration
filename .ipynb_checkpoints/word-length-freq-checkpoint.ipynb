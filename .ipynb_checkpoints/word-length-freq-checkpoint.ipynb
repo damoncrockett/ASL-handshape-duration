{
 "metadata": {
  "name": "",
  "signature": "sha256:73d7c13da76cd68918184ae4a5c60edd83226baaafdb49e1178cd266969565d6"
 },
 "nbformat": 3,
 "nbformat_minor": 0,
 "worksheets": [
  {
   "cells": [
    {
     "cell_type": "code",
     "collapsed": false,
     "input": [
      "import pandas as pd\n",
      "from scipy.stats import pearsonr"
     ],
     "language": "python",
     "metadata": {},
     "outputs": [],
     "prompt_number": 9
    },
    {
     "cell_type": "code",
     "collapsed": false,
     "input": [
      "subtl = pd.read_csv('/home/damoncrockett/PSYC201/Brysbaert-BRM-2009/SUBTLEXusfrequencyabove1.csv')"
     ],
     "language": "python",
     "metadata": {},
     "outputs": [],
     "prompt_number": 2
    },
    {
     "cell_type": "code",
     "collapsed": false,
     "input": [
      "subtl.head()"
     ],
     "language": "python",
     "metadata": {},
     "outputs": [
      {
       "html": [
        "<div style=\"max-height:1000px;max-width:1500px;overflow:auto;\">\n",
        "<table border=\"1\" class=\"dataframe\">\n",
        "  <thead>\n",
        "    <tr style=\"text-align: right;\">\n",
        "      <th></th>\n",
        "      <th>Word</th>\n",
        "      <th>FREQcount</th>\n",
        "      <th>CDcount</th>\n",
        "      <th>FREQlow</th>\n",
        "      <th>Cdlow</th>\n",
        "      <th>SUBTLWF</th>\n",
        "      <th>Lg10WF</th>\n",
        "      <th>SUBTLCD</th>\n",
        "      <th>Lg10CD</th>\n",
        "    </tr>\n",
        "  </thead>\n",
        "  <tbody>\n",
        "    <tr>\n",
        "      <th>0</th>\n",
        "      <td> the</td>\n",
        "      <td> 1501908</td>\n",
        "      <td> 8388</td>\n",
        "      <td> 1339811</td>\n",
        "      <td> 8388</td>\n",
        "      <td> 29449.18</td>\n",
        "      <td> 6.1766</td>\n",
        "      <td> 100.00</td>\n",
        "      <td> 3.9237</td>\n",
        "    </tr>\n",
        "    <tr>\n",
        "      <th>1</th>\n",
        "      <td>  to</td>\n",
        "      <td> 1156570</td>\n",
        "      <td> 8383</td>\n",
        "      <td> 1138435</td>\n",
        "      <td> 8380</td>\n",
        "      <td> 22677.84</td>\n",
        "      <td> 6.0632</td>\n",
        "      <td>  99.94</td>\n",
        "      <td> 3.9235</td>\n",
        "    </tr>\n",
        "    <tr>\n",
        "      <th>2</th>\n",
        "      <td>   a</td>\n",
        "      <td> 1041179</td>\n",
        "      <td> 8382</td>\n",
        "      <td>  976941</td>\n",
        "      <td> 8380</td>\n",
        "      <td> 20415.27</td>\n",
        "      <td> 6.0175</td>\n",
        "      <td>  99.93</td>\n",
        "      <td> 3.9234</td>\n",
        "    </tr>\n",
        "    <tr>\n",
        "      <th>3</th>\n",
        "      <td> you</td>\n",
        "      <td> 2134713</td>\n",
        "      <td> 8381</td>\n",
        "      <td> 1595028</td>\n",
        "      <td> 8376</td>\n",
        "      <td> 41857.12</td>\n",
        "      <td> 6.3293</td>\n",
        "      <td>  99.92</td>\n",
        "      <td> 3.9233</td>\n",
        "    </tr>\n",
        "    <tr>\n",
        "      <th>4</th>\n",
        "      <td> and</td>\n",
        "      <td>  682780</td>\n",
        "      <td> 8379</td>\n",
        "      <td>  515365</td>\n",
        "      <td> 8374</td>\n",
        "      <td> 13387.84</td>\n",
        "      <td> 5.8343</td>\n",
        "      <td>  99.89</td>\n",
        "      <td> 3.9232</td>\n",
        "    </tr>\n",
        "  </tbody>\n",
        "</table>\n",
        "<p>5 rows \u00d7 9 columns</p>\n",
        "</div>"
       ],
       "metadata": {},
       "output_type": "pyout",
       "prompt_number": 3,
       "text": [
        "  Word  FREQcount  CDcount  FREQlow  Cdlow   SUBTLWF  Lg10WF  SUBTLCD  Lg10CD\n",
        "0  the    1501908     8388  1339811   8388  29449.18  6.1766   100.00  3.9237\n",
        "1   to    1156570     8383  1138435   8380  22677.84  6.0632    99.94  3.9235\n",
        "2    a    1041179     8382   976941   8380  20415.27  6.0175    99.93  3.9234\n",
        "3  you    2134713     8381  1595028   8376  41857.12  6.3293    99.92  3.9233\n",
        "4  and     682780     8379   515365   8374  13387.84  5.8343    99.89  3.9232\n",
        "\n",
        "[5 rows x 9 columns]"
       ]
      }
     ],
     "prompt_number": 3
    },
    {
     "cell_type": "code",
     "collapsed": false,
     "input": [
      "subtl['length'] = subtl.Word.apply(len)"
     ],
     "language": "python",
     "metadata": {},
     "outputs": [],
     "prompt_number": 19
    },
    {
     "cell_type": "code",
     "collapsed": false,
     "input": [],
     "language": "python",
     "metadata": {},
     "outputs": []
    },
    {
     "cell_type": "code",
     "collapsed": false,
     "input": [],
     "language": "python",
     "metadata": {},
     "outputs": []
    },
    {
     "cell_type": "code",
     "collapsed": false,
     "input": [],
     "language": "python",
     "metadata": {},
     "outputs": []
    },
    {
     "cell_type": "code",
     "collapsed": false,
     "input": [],
     "language": "python",
     "metadata": {},
     "outputs": []
    },
    {
     "cell_type": "code",
     "collapsed": false,
     "input": [],
     "language": "python",
     "metadata": {},
     "outputs": []
    }
   ],
   "metadata": {}
  }
 ]
}