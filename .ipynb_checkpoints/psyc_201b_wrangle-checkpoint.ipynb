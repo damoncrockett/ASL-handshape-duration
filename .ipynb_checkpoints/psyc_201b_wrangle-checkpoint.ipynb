{
 "metadata": {
  "name": "",
  "signature": "sha256:245f73e5601408fe27bc3e56546fa72490f2e0144f644a511f9ebb85b161bec7"
 },
 "nbformat": 3,
 "nbformat_minor": 0,
 "worksheets": [
  {
   "cells": [
    {
     "cell_type": "code",
     "collapsed": false,
     "input": [
      "import pandas as pd\n",
      "%matplotlib inline"
     ],
     "language": "python",
     "metadata": {},
     "outputs": [],
     "prompt_number": 112
    },
    {
     "cell_type": "code",
     "collapsed": false,
     "input": [
      "subtl = pd.read_csv('/home/damoncrockett/PSYC201/Brysbaert-BRM-2009/SUBTLEXusfrequencyabove1.csv')"
     ],
     "language": "python",
     "metadata": {},
     "outputs": [],
     "prompt_number": 113
    },
    {
     "cell_type": "code",
     "collapsed": false,
     "input": [
      "subtl['gloss'] = subtl.Word.map(lambda x: x.lower())"
     ],
     "language": "python",
     "metadata": {},
     "outputs": [],
     "prompt_number": 114
    },
    {
     "cell_type": "code",
     "collapsed": false,
     "input": [
      "bu = pd.read_csv('/home/damoncrockett/PSYC201/group_project/BU_glossing_with_variations_HS_information.csv')"
     ],
     "language": "python",
     "metadata": {},
     "outputs": [],
     "prompt_number": 115
    },
    {
     "cell_type": "code",
     "collapsed": false,
     "input": [
      "bu = bu[['Consultant','Main New Gloss.1','D Start HS','N-D Start HS','D End HS','N-D End HS','Start','End']]"
     ],
     "language": "python",
     "metadata": {},
     "outputs": [],
     "prompt_number": 116
    },
    {
     "cell_type": "code",
     "collapsed": false,
     "input": [
      "bu = bu[~bu.Start.str.contains('=')]"
     ],
     "language": "python",
     "metadata": {},
     "outputs": [],
     "prompt_number": 117
    },
    {
     "cell_type": "code",
     "collapsed": false,
     "input": [
      "bu = bu[~bu.Start.str.contains('-')]"
     ],
     "language": "python",
     "metadata": {},
     "outputs": [],
     "prompt_number": 118
    },
    {
     "cell_type": "code",
     "collapsed": false,
     "input": [
      "bu['duration'] = bu.End.apply(float) - bu.Start.apply(float)"
     ],
     "language": "python",
     "metadata": {},
     "outputs": [],
     "prompt_number": 119
    },
    {
     "cell_type": "code",
     "collapsed": false,
     "input": [
      "bu.rename(columns = {'Main New Gloss.1':'gloss',\n",
      "                     'D Start HS':'dshs',\n",
      "                     'N-D Start HS':'ndshs',\n",
      "                     'D End HS':'dehs',\n",
      "                     'N-D End HS':'ndehs',\n",
      "                     'Consultant':'consultant'},\n",
      "          inplace=True)"
     ],
     "language": "python",
     "metadata": {},
     "outputs": [],
     "prompt_number": 120
    },
    {
     "cell_type": "code",
     "collapsed": false,
     "input": [
      "del bu['Start']\n",
      "del bu['End']"
     ],
     "language": "python",
     "metadata": {},
     "outputs": [],
     "prompt_number": 121
    },
    {
     "cell_type": "code",
     "collapsed": false,
     "input": [
      "bu = bu[bu.gloss.notnull()]"
     ],
     "language": "python",
     "metadata": {},
     "outputs": [],
     "prompt_number": 122
    },
    {
     "cell_type": "code",
     "collapsed": false,
     "input": [
      "len(bu.index)"
     ],
     "language": "python",
     "metadata": {},
     "outputs": [
      {
       "metadata": {},
       "output_type": "pyout",
       "prompt_number": 123,
       "text": [
        "9758"
       ]
      }
     ],
     "prompt_number": 123
    },
    {
     "cell_type": "code",
     "collapsed": false,
     "input": [
      "compound = bu[~bu.gloss.str.match(r\"^[A-Za-z]+$\")]"
     ],
     "language": "python",
     "metadata": {},
     "outputs": [],
     "prompt_number": 124
    },
    {
     "cell_type": "code",
     "collapsed": false,
     "input": [
      "bu = bu[bu.gloss.str.match(r\"^[A-Za-z]+$\")]"
     ],
     "language": "python",
     "metadata": {},
     "outputs": [],
     "prompt_number": 125
    },
    {
     "cell_type": "code",
     "collapsed": false,
     "input": [
      "len(bu.index)"
     ],
     "language": "python",
     "metadata": {},
     "outputs": [
      {
       "metadata": {},
       "output_type": "pyout",
       "prompt_number": 126,
       "text": [
        "6468"
       ]
      }
     ],
     "prompt_number": 126
    },
    {
     "cell_type": "code",
     "collapsed": false,
     "input": [
      "float(6468)/9758"
     ],
     "language": "python",
     "metadata": {},
     "outputs": [
      {
       "metadata": {},
       "output_type": "pyout",
       "prompt_number": 127,
       "text": [
        "0.6628407460545194"
       ]
      }
     ],
     "prompt_number": 127
    },
    {
     "cell_type": "code",
     "collapsed": false,
     "input": [
      "bu['gloss'] = bu.gloss.map(lambda x: x.lower())"
     ],
     "language": "python",
     "metadata": {},
     "outputs": [],
     "prompt_number": 128
    },
    {
     "cell_type": "code",
     "collapsed": false,
     "input": [
      "subtl.columns"
     ],
     "language": "python",
     "metadata": {},
     "outputs": [
      {
       "metadata": {},
       "output_type": "pyout",
       "prompt_number": 129,
       "text": [
        "Index([u'Word', u'FREQcount', u'CDcount', u'FREQlow', u'Cdlow', u'SUBTLWF', u'Lg10WF', u'SUBTLCD', u'Lg10CD', u'gloss'], dtype='object')"
       ]
      }
     ],
     "prompt_number": 129
    },
    {
     "cell_type": "code",
     "collapsed": false,
     "input": [
      "subtl = subtl[['SUBTLWF','FREQcount','Lg10WF','gloss']]"
     ],
     "language": "python",
     "metadata": {},
     "outputs": [],
     "prompt_number": 130
    },
    {
     "cell_type": "code",
     "collapsed": false,
     "input": [
      "subtl.set_index('gloss', inplace=True)"
     ],
     "language": "python",
     "metadata": {},
     "outputs": [],
     "prompt_number": 131
    },
    {
     "cell_type": "code",
     "collapsed": false,
     "input": [
      "bu = bu.join(subtl, on='gloss')"
     ],
     "language": "python",
     "metadata": {},
     "outputs": [],
     "prompt_number": 132
    },
    {
     "cell_type": "code",
     "collapsed": false,
     "input": [
      "len(bu.gloss.value_counts())"
     ],
     "language": "python",
     "metadata": {},
     "outputs": [
      {
       "metadata": {},
       "output_type": "pyout",
       "prompt_number": 133,
       "text": [
        "1636"
       ]
      }
     ],
     "prompt_number": 133
    },
    {
     "cell_type": "code",
     "collapsed": false,
     "input": [
      "bu = bu[bu.dshs.notnull()]\n",
      "bu = bu[bu.dehs.notnull()]"
     ],
     "language": "python",
     "metadata": {},
     "outputs": [],
     "prompt_number": 134
    },
    {
     "cell_type": "code",
     "collapsed": false,
     "input": [
      "bu = bu[bu.Lg10WF.notnull()]\n",
      "bu = bu[bu.FREQcount.notnull()]\n",
      "bu = bu[bu.SUBTLWF.notnull()]"
     ],
     "language": "python",
     "metadata": {},
     "outputs": [],
     "prompt_number": 135
    },
    {
     "cell_type": "code",
     "collapsed": false,
     "input": [
      "len(bu.index)"
     ],
     "language": "python",
     "metadata": {},
     "outputs": [
      {
       "metadata": {},
       "output_type": "pyout",
       "prompt_number": 136,
       "text": [
        "6438"
       ]
      }
     ],
     "prompt_number": 136
    },
    {
     "cell_type": "code",
     "collapsed": false,
     "input": [
      "len(bu[bu.ndshs.isnull()])"
     ],
     "language": "python",
     "metadata": {},
     "outputs": [
      {
       "metadata": {},
       "output_type": "pyout",
       "prompt_number": 137,
       "text": [
        "2142"
       ]
      }
     ],
     "prompt_number": 137
    },
    {
     "cell_type": "code",
     "collapsed": false,
     "input": [
      "len(bu[bu.ndshs.notnull()])"
     ],
     "language": "python",
     "metadata": {},
     "outputs": [
      {
       "metadata": {},
       "output_type": "pyout",
       "prompt_number": 138,
       "text": [
        "4296"
       ]
      }
     ],
     "prompt_number": 138
    },
    {
     "cell_type": "code",
     "collapsed": false,
     "input": [
      "len(bu[(bu.ndshs.notnull()) & (bu.ndehs.notnull())])"
     ],
     "language": "python",
     "metadata": {},
     "outputs": [
      {
       "metadata": {},
       "output_type": "pyout",
       "prompt_number": 139,
       "text": [
        "4296"
       ]
      }
     ],
     "prompt_number": 139
    },
    {
     "cell_type": "code",
     "collapsed": false,
     "input": [
      "len(bu[(bu.ndshs.isnull()) & (bu.ndehs.isnull())])"
     ],
     "language": "python",
     "metadata": {},
     "outputs": [
      {
       "metadata": {},
       "output_type": "pyout",
       "prompt_number": 140,
       "text": [
        "2140"
       ]
      }
     ],
     "prompt_number": 140
    },
    {
     "cell_type": "code",
     "collapsed": false,
     "input": [
      "len(bu[(bu.ndshs.notnull()) & (bu.ndehs.isnull())])"
     ],
     "language": "python",
     "metadata": {},
     "outputs": [
      {
       "metadata": {},
       "output_type": "pyout",
       "prompt_number": 141,
       "text": [
        "0"
       ]
      }
     ],
     "prompt_number": 141
    },
    {
     "cell_type": "code",
     "collapsed": false,
     "input": [
      "bu[(bu.ndshs.isnull()) & (bu.ndehs.notnull())]"
     ],
     "language": "python",
     "metadata": {},
     "outputs": [
      {
       "html": [
        "<div style=\"max-height:1000px;max-width:1500px;overflow:auto;\">\n",
        "<table border=\"1\" class=\"dataframe\">\n",
        "  <thead>\n",
        "    <tr style=\"text-align: right;\">\n",
        "      <th></th>\n",
        "      <th>consultant</th>\n",
        "      <th>gloss</th>\n",
        "      <th>dshs</th>\n",
        "      <th>ndshs</th>\n",
        "      <th>dehs</th>\n",
        "      <th>ndehs</th>\n",
        "      <th>duration</th>\n",
        "      <th>SUBTLWF</th>\n",
        "      <th>FREQcount</th>\n",
        "      <th>Lg10WF</th>\n",
        "    </tr>\n",
        "  </thead>\n",
        "  <tbody>\n",
        "    <tr>\n",
        "      <th>8569</th>\n",
        "      <td> Liz</td>\n",
        "      <td> tomato</td>\n",
        "      <td> 1</td>\n",
        "      <td> NaN</td>\n",
        "      <td> 1</td>\n",
        "      <td> 1</td>\n",
        "      <td> 34</td>\n",
        "      <td> 5.9</td>\n",
        "      <td> 301</td>\n",
        "      <td> 2.48</td>\n",
        "    </tr>\n",
        "    <tr>\n",
        "      <th>8570</th>\n",
        "      <td> Liz</td>\n",
        "      <td> tomato</td>\n",
        "      <td> 1</td>\n",
        "      <td> NaN</td>\n",
        "      <td> 1</td>\n",
        "      <td> 1</td>\n",
        "      <td> 35</td>\n",
        "      <td> 5.9</td>\n",
        "      <td> 301</td>\n",
        "      <td> 2.48</td>\n",
        "    </tr>\n",
        "  </tbody>\n",
        "</table>\n",
        "<p>2 rows \u00d7 10 columns</p>\n",
        "</div>"
       ],
       "metadata": {},
       "output_type": "pyout",
       "prompt_number": 142,
       "text": [
        "     consultant   gloss dshs ndshs dehs ndehs  duration  SUBTLWF  FREQcount  \\\n",
        "8569        Liz  tomato    1   NaN    1     1        34      5.9        301   \n",
        "8570        Liz  tomato    1   NaN    1     1        35      5.9        301   \n",
        "\n",
        "      Lg10WF  \n",
        "8569    2.48  \n",
        "8570    2.48  \n",
        "\n",
        "[2 rows x 10 columns]"
       ]
      }
     ],
     "prompt_number": 142
    },
    {
     "cell_type": "code",
     "collapsed": false,
     "input": [
      "bu = bu[~((bu.ndshs.isnull()) & (bu.ndehs.notnull()))]"
     ],
     "language": "python",
     "metadata": {},
     "outputs": [],
     "prompt_number": 143
    },
    {
     "cell_type": "code",
     "collapsed": false,
     "input": [
      "bu = bu[~((bu.ndshs.notnull()) & (bu.ndehs.isnull()))]"
     ],
     "language": "python",
     "metadata": {},
     "outputs": [],
     "prompt_number": 144
    },
    {
     "cell_type": "code",
     "collapsed": false,
     "input": [
      "len(bu.index)"
     ],
     "language": "python",
     "metadata": {},
     "outputs": [
      {
       "metadata": {},
       "output_type": "pyout",
       "prompt_number": 145,
       "text": [
        "6436"
       ]
      }
     ],
     "prompt_number": 145
    },
    {
     "cell_type": "code",
     "collapsed": false,
     "input": [
      "bu['ohs'] = (bu.ndshs.isnull()) & (bu.dshs == bu.dehs)"
     ],
     "language": "python",
     "metadata": {},
     "outputs": [],
     "prompt_number": 146
    },
    {
     "cell_type": "code",
     "collapsed": false,
     "input": [
      "bu['ohd'] = (bu.ndshs.isnull()) & (bu.dshs != bu.dehs)"
     ],
     "language": "python",
     "metadata": {},
     "outputs": [],
     "prompt_number": 147
    },
    {
     "cell_type": "code",
     "collapsed": false,
     "input": [
      "bu['thss'] = (bu.ndshs.notnull()) & (bu.dshs == bu.ndshs) & (bu.dshs == bu.dehs)"
     ],
     "language": "python",
     "metadata": {},
     "outputs": [],
     "prompt_number": 148
    },
    {
     "cell_type": "code",
     "collapsed": false,
     "input": [
      "bu['thsd'] = (bu.ndshs.notnull()) & (bu.dshs == bu.ndshs) & (bu.dshs != bu.dehs)"
     ],
     "language": "python",
     "metadata": {},
     "outputs": [],
     "prompt_number": 149
    },
    {
     "cell_type": "code",
     "collapsed": false,
     "input": [
      "bu['thds'] = (bu.ndshs.notnull()) & (bu.dshs != bu.ndshs) & (bu.dshs == bu.dehs)"
     ],
     "language": "python",
     "metadata": {},
     "outputs": [],
     "prompt_number": 150
    },
    {
     "cell_type": "code",
     "collapsed": false,
     "input": [
      "bu['thdd'] = (bu.ndshs.notnull()) & (bu.dshs != bu.ndshs) & (bu.dshs != bu.dehs)"
     ],
     "language": "python",
     "metadata": {},
     "outputs": [],
     "prompt_number": 151
    },
    {
     "cell_type": "code",
     "collapsed": false,
     "input": [
      "del bu['dshs']\n",
      "del bu['dehs']\n",
      "del bu['ndshs']\n",
      "del bu['ndehs']"
     ],
     "language": "python",
     "metadata": {},
     "outputs": [],
     "prompt_number": 152
    },
    {
     "cell_type": "code",
     "collapsed": false,
     "input": [
      "bu.head()"
     ],
     "language": "python",
     "metadata": {},
     "outputs": [
      {
       "html": [
        "<div style=\"max-height:1000px;max-width:1500px;overflow:auto;\">\n",
        "<table border=\"1\" class=\"dataframe\">\n",
        "  <thead>\n",
        "    <tr style=\"text-align: right;\">\n",
        "      <th></th>\n",
        "      <th>consultant</th>\n",
        "      <th>gloss</th>\n",
        "      <th>duration</th>\n",
        "      <th>SUBTLWF</th>\n",
        "      <th>FREQcount</th>\n",
        "      <th>Lg10WF</th>\n",
        "      <th>ohs</th>\n",
        "      <th>ohd</th>\n",
        "      <th>thss</th>\n",
        "      <th>thsd</th>\n",
        "      <th>thds</th>\n",
        "      <th>thdd</th>\n",
        "    </tr>\n",
        "  </thead>\n",
        "  <tbody>\n",
        "    <tr>\n",
        "      <th>2</th>\n",
        "      <td>   Liz</td>\n",
        "      <td> twenty</td>\n",
        "      <td> 26</td>\n",
        "      <td>  27.02</td>\n",
        "      <td>  1378</td>\n",
        "      <td> 3.1396</td>\n",
        "      <td> False</td>\n",
        "      <td>  True</td>\n",
        "      <td> False</td>\n",
        "      <td> False</td>\n",
        "      <td> False</td>\n",
        "      <td> False</td>\n",
        "    </tr>\n",
        "    <tr>\n",
        "      <th>3</th>\n",
        "      <td> Tyler</td>\n",
        "      <td> twenty</td>\n",
        "      <td> 80</td>\n",
        "      <td>  27.02</td>\n",
        "      <td>  1378</td>\n",
        "      <td> 3.1396</td>\n",
        "      <td> False</td>\n",
        "      <td>  True</td>\n",
        "      <td> False</td>\n",
        "      <td> False</td>\n",
        "      <td> False</td>\n",
        "      <td> False</td>\n",
        "    </tr>\n",
        "    <tr>\n",
        "      <th>4</th>\n",
        "      <td> Naomi</td>\n",
        "      <td> twenty</td>\n",
        "      <td> 74</td>\n",
        "      <td>  27.02</td>\n",
        "      <td>  1378</td>\n",
        "      <td> 3.1396</td>\n",
        "      <td> False</td>\n",
        "      <td>  True</td>\n",
        "      <td> False</td>\n",
        "      <td> False</td>\n",
        "      <td> False</td>\n",
        "      <td> False</td>\n",
        "    </tr>\n",
        "    <tr>\n",
        "      <th>5</th>\n",
        "      <td> Brady</td>\n",
        "      <td> twenty</td>\n",
        "      <td> 28</td>\n",
        "      <td>  27.02</td>\n",
        "      <td>  1378</td>\n",
        "      <td> 3.1396</td>\n",
        "      <td> False</td>\n",
        "      <td>  True</td>\n",
        "      <td> False</td>\n",
        "      <td> False</td>\n",
        "      <td> False</td>\n",
        "      <td> False</td>\n",
        "    </tr>\n",
        "    <tr>\n",
        "      <th>7</th>\n",
        "      <td>   Liz</td>\n",
        "      <td>  alone</td>\n",
        "      <td> 75</td>\n",
        "      <td> 308.53</td>\n",
        "      <td> 15735</td>\n",
        "      <td> 4.1969</td>\n",
        "      <td>  True</td>\n",
        "      <td> False</td>\n",
        "      <td> False</td>\n",
        "      <td> False</td>\n",
        "      <td> False</td>\n",
        "      <td> False</td>\n",
        "    </tr>\n",
        "  </tbody>\n",
        "</table>\n",
        "<p>5 rows \u00d7 12 columns</p>\n",
        "</div>"
       ],
       "metadata": {},
       "output_type": "pyout",
       "prompt_number": 153,
       "text": [
        "  consultant   gloss  duration  SUBTLWF  FREQcount  Lg10WF    ohs    ohd  \\\n",
        "2        Liz  twenty        26    27.02       1378  3.1396  False   True   \n",
        "3      Tyler  twenty        80    27.02       1378  3.1396  False   True   \n",
        "4      Naomi  twenty        74    27.02       1378  3.1396  False   True   \n",
        "5      Brady  twenty        28    27.02       1378  3.1396  False   True   \n",
        "7        Liz   alone        75   308.53      15735  4.1969   True  False   \n",
        "\n",
        "    thss   thsd   thds   thdd  \n",
        "2  False  False  False  False  \n",
        "3  False  False  False  False  \n",
        "4  False  False  False  False  \n",
        "5  False  False  False  False  \n",
        "7  False  False  False  False  \n",
        "\n",
        "[5 rows x 12 columns]"
       ]
      }
     ],
     "prompt_number": 153
    },
    {
     "cell_type": "code",
     "collapsed": false,
     "input": [
      "bu.reset_index(drop=True, inplace=True)"
     ],
     "language": "python",
     "metadata": {},
     "outputs": [],
     "prompt_number": 154
    },
    {
     "cell_type": "code",
     "collapsed": false,
     "input": [
      "bu.to_csv('/home/damoncrockett/PSYC201/group_project/handshape_and_frequency_clean_var2.csv')"
     ],
     "language": "python",
     "metadata": {},
     "outputs": [],
     "prompt_number": 155
    },
    {
     "cell_type": "code",
     "collapsed": false,
     "input": [
      "bu.consultant.value_counts()"
     ],
     "language": "python",
     "metadata": {},
     "outputs": [
      {
       "metadata": {},
       "output_type": "pyout",
       "prompt_number": 156,
       "text": [
        "Liz      2022\n",
        "Brady    1975\n",
        "Tyler     915\n",
        "Naomi     905\n",
        "Lana      331\n",
        "Dana      288\n",
        "dtype: int64"
       ]
      }
     ],
     "prompt_number": 156
    },
    {
     "cell_type": "code",
     "collapsed": false,
     "input": [
      "compound = compound[compound.dshs.notnull()]\n",
      "compound = compound[compound.dehs.notnull()]\n",
      "compound = compound[~((compound.ndshs.isnull()) & (compound.ndehs.notnull()))]\n",
      "compound = compound[~((compound.ndshs.notnull()) & (compound.ndehs.isnull()))]"
     ],
     "language": "python",
     "metadata": {},
     "outputs": [],
     "prompt_number": 157
    },
    {
     "cell_type": "code",
     "collapsed": false,
     "input": [
      "compound['ohs'] = (compound.ndshs.isnull()) & (compound.dshs == compound.dehs)"
     ],
     "language": "python",
     "metadata": {},
     "outputs": [],
     "prompt_number": 158
    },
    {
     "cell_type": "code",
     "collapsed": false,
     "input": [
      "compound['ohd'] = (compound.ndshs.isnull()) & (compound.dshs != compound.dehs)"
     ],
     "language": "python",
     "metadata": {},
     "outputs": [],
     "prompt_number": 159
    },
    {
     "cell_type": "code",
     "collapsed": false,
     "input": [
      "compound['thss'] = (compound.ndshs.notnull()) & (compound.dshs == compound.ndshs) & (compound.dshs == compound.dehs)"
     ],
     "language": "python",
     "metadata": {},
     "outputs": [],
     "prompt_number": 160
    },
    {
     "cell_type": "code",
     "collapsed": false,
     "input": [
      "compound['thsd'] = (compound.ndshs.notnull()) & (compound.dshs == compound.ndshs) & (compound.dshs != compound.dehs)"
     ],
     "language": "python",
     "metadata": {},
     "outputs": [],
     "prompt_number": 161
    },
    {
     "cell_type": "code",
     "collapsed": false,
     "input": [
      "compound['thds'] = (compound.ndshs.notnull()) & (compound.dshs != compound.ndshs) & (compound.dshs == compound.dehs)"
     ],
     "language": "python",
     "metadata": {},
     "outputs": [],
     "prompt_number": 162
    },
    {
     "cell_type": "code",
     "collapsed": false,
     "input": [
      "compound['thdd'] = (compound.ndshs.notnull()) & (compound.dshs != compound.ndshs) & (compound.dshs != compound.dehs)"
     ],
     "language": "python",
     "metadata": {},
     "outputs": [],
     "prompt_number": 163
    },
    {
     "cell_type": "code",
     "collapsed": false,
     "input": [
      "del compound['dshs']\n",
      "del compound['dehs']\n",
      "del compound['ndshs']\n",
      "del compound['ndehs']"
     ],
     "language": "python",
     "metadata": {},
     "outputs": [],
     "prompt_number": 164
    },
    {
     "cell_type": "code",
     "collapsed": false,
     "input": [
      "compound.head()"
     ],
     "language": "python",
     "metadata": {},
     "outputs": [
      {
       "html": [
        "<div style=\"max-height:1000px;max-width:1500px;overflow:auto;\">\n",
        "<table border=\"1\" class=\"dataframe\">\n",
        "  <thead>\n",
        "    <tr style=\"text-align: right;\">\n",
        "      <th></th>\n",
        "      <th>consultant</th>\n",
        "      <th>gloss</th>\n",
        "      <th>duration</th>\n",
        "      <th>ohs</th>\n",
        "      <th>ohd</th>\n",
        "      <th>thss</th>\n",
        "      <th>thsd</th>\n",
        "      <th>thds</th>\n",
        "      <th>thdd</th>\n",
        "    </tr>\n",
        "  </thead>\n",
        "  <tbody>\n",
        "    <tr>\n",
        "      <th>31</th>\n",
        "      <td>   Liz</td>\n",
        "      <td> SOMETHING/ONE</td>\n",
        "      <td> 42</td>\n",
        "      <td>  True</td>\n",
        "      <td> False</td>\n",
        "      <td> False</td>\n",
        "      <td> False</td>\n",
        "      <td> False</td>\n",
        "      <td> False</td>\n",
        "    </tr>\n",
        "    <tr>\n",
        "      <th>38</th>\n",
        "      <td>   Liz</td>\n",
        "      <td> WAIT-A-MINUTE</td>\n",
        "      <td> 37</td>\n",
        "      <td>  True</td>\n",
        "      <td> False</td>\n",
        "      <td> False</td>\n",
        "      <td> False</td>\n",
        "      <td> False</td>\n",
        "      <td> False</td>\n",
        "    </tr>\n",
        "    <tr>\n",
        "      <th>39</th>\n",
        "      <td> Brady</td>\n",
        "      <td> WAIT-A-MINUTE</td>\n",
        "      <td> 50</td>\n",
        "      <td>  True</td>\n",
        "      <td> False</td>\n",
        "      <td> False</td>\n",
        "      <td> False</td>\n",
        "      <td> False</td>\n",
        "      <td> False</td>\n",
        "    </tr>\n",
        "    <tr>\n",
        "      <th>54</th>\n",
        "      <td>   Liz</td>\n",
        "      <td>    LITTLE-BIT</td>\n",
        "      <td> 26</td>\n",
        "      <td> False</td>\n",
        "      <td>  True</td>\n",
        "      <td> False</td>\n",
        "      <td> False</td>\n",
        "      <td> False</td>\n",
        "      <td> False</td>\n",
        "    </tr>\n",
        "    <tr>\n",
        "      <th>55</th>\n",
        "      <td> Tyler</td>\n",
        "      <td>    LITTLE-BIT</td>\n",
        "      <td> 60</td>\n",
        "      <td> False</td>\n",
        "      <td>  True</td>\n",
        "      <td> False</td>\n",
        "      <td> False</td>\n",
        "      <td> False</td>\n",
        "      <td> False</td>\n",
        "    </tr>\n",
        "  </tbody>\n",
        "</table>\n",
        "<p>5 rows \u00d7 9 columns</p>\n",
        "</div>"
       ],
       "metadata": {},
       "output_type": "pyout",
       "prompt_number": 165,
       "text": [
        "   consultant          gloss  duration    ohs    ohd   thss   thsd   thds  \\\n",
        "31        Liz  SOMETHING/ONE        42   True  False  False  False  False   \n",
        "38        Liz  WAIT-A-MINUTE        37   True  False  False  False  False   \n",
        "39      Brady  WAIT-A-MINUTE        50   True  False  False  False  False   \n",
        "54        Liz     LITTLE-BIT        26  False   True  False  False  False   \n",
        "55      Tyler     LITTLE-BIT        60  False   True  False  False  False   \n",
        "\n",
        "     thdd  \n",
        "31  False  \n",
        "38  False  \n",
        "39  False  \n",
        "54  False  \n",
        "55  False  \n",
        "\n",
        "[5 rows x 9 columns]"
       ]
      }
     ],
     "prompt_number": 165
    },
    {
     "cell_type": "code",
     "collapsed": false,
     "input": [
      "compound.reset_index(drop=True, inplace=True)"
     ],
     "language": "python",
     "metadata": {},
     "outputs": [],
     "prompt_number": 166
    },
    {
     "cell_type": "code",
     "collapsed": false,
     "input": [
      "compound.to_csv('/home/damoncrockett/PSYC201/group_project/handshape_clean_var_compound.csv')"
     ],
     "language": "python",
     "metadata": {},
     "outputs": [],
     "prompt_number": 167
    }
   ],
   "metadata": {}
  }
 ]
}