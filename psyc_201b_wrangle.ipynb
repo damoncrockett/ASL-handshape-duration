{
 "metadata": {
  "name": "",
  "signature": "sha256:2fdbffd7c115d132129fec4126854c2cb36ebbca961082907ee56d9062fab907"
 },
 "nbformat": 3,
 "nbformat_minor": 0,
 "worksheets": [
  {
   "cells": [
    {
     "cell_type": "code",
     "collapsed": false,
     "input": [
      "import pandas as pd"
     ],
     "language": "python",
     "metadata": {},
     "outputs": [],
     "prompt_number": 2
    },
    {
     "cell_type": "code",
     "collapsed": false,
     "input": [
      "subtl = pd.read_csv('/home/damoncrockett/PSYC201/Brysbaert-BRM-2009/SUBTLEXusfrequencyabove1.csv')"
     ],
     "language": "python",
     "metadata": {},
     "outputs": [],
     "prompt_number": 3
    },
    {
     "cell_type": "code",
     "collapsed": false,
     "input": [
      "subtl['gloss'] = subtl.Word.map(lambda x: x.lower())"
     ],
     "language": "python",
     "metadata": {},
     "outputs": [],
     "prompt_number": 4
    },
    {
     "cell_type": "code",
     "collapsed": false,
     "input": [
      "bu = pd.read_csv('/home/damoncrockett/PSYC201/group_project/BU_glossing_with_variations_HS_information.csv')"
     ],
     "language": "python",
     "metadata": {},
     "outputs": [],
     "prompt_number": 5
    },
    {
     "cell_type": "code",
     "collapsed": false,
     "input": [
      "bu = bu[['Consultant','Main New Gloss.1','D Start HS','N-D Start HS','D End HS','N-D End HS','Start','End']]"
     ],
     "language": "python",
     "metadata": {},
     "outputs": [],
     "prompt_number": 6
    },
    {
     "cell_type": "code",
     "collapsed": false,
     "input": [
      "bu = bu[~bu.Start.str.contains('=')]"
     ],
     "language": "python",
     "metadata": {},
     "outputs": [],
     "prompt_number": 7
    },
    {
     "cell_type": "code",
     "collapsed": false,
     "input": [
      "bu = bu[~bu.Start.str.contains('-')]"
     ],
     "language": "python",
     "metadata": {},
     "outputs": [],
     "prompt_number": 8
    },
    {
     "cell_type": "code",
     "collapsed": false,
     "input": [
      "bu['duration'] = bu.End.apply(float) - bu.Start.apply(float)"
     ],
     "language": "python",
     "metadata": {},
     "outputs": [],
     "prompt_number": 9
    },
    {
     "cell_type": "code",
     "collapsed": false,
     "input": [
      "bu.rename(columns = {'Main New Gloss.1':'gloss',\n",
      "                     'D Start HS':'dshs',\n",
      "                     'N-D Start HS':'ndshs',\n",
      "                     'D End HS':'dehs',\n",
      "                     'N-D End HS':'ndehs',\n",
      "                     'Consultant':'consultant'},\n",
      "          inplace=True)"
     ],
     "language": "python",
     "metadata": {},
     "outputs": [],
     "prompt_number": 10
    },
    {
     "cell_type": "code",
     "collapsed": false,
     "input": [
      "del bu['Start']\n",
      "del bu['End']"
     ],
     "language": "python",
     "metadata": {},
     "outputs": [],
     "prompt_number": 11
    },
    {
     "cell_type": "code",
     "collapsed": false,
     "input": [
      "bu = bu[bu.gloss.notnull()]"
     ],
     "language": "python",
     "metadata": {},
     "outputs": [],
     "prompt_number": 12
    },
    {
     "cell_type": "code",
     "collapsed": false,
     "input": [
      "len(bu.index)"
     ],
     "language": "python",
     "metadata": {},
     "outputs": [
      {
       "metadata": {},
       "output_type": "pyout",
       "prompt_number": 13,
       "text": [
        "9758"
       ]
      }
     ],
     "prompt_number": 13
    },
    {
     "cell_type": "code",
     "collapsed": false,
     "input": [
      "bu = bu[bu.gloss.str.match(r\"^[A-Za-z]+$\")]"
     ],
     "language": "python",
     "metadata": {},
     "outputs": [],
     "prompt_number": 14
    },
    {
     "cell_type": "code",
     "collapsed": false,
     "input": [
      "len(bu.index)"
     ],
     "language": "python",
     "metadata": {},
     "outputs": [
      {
       "metadata": {},
       "output_type": "pyout",
       "prompt_number": 15,
       "text": [
        "6468"
       ]
      }
     ],
     "prompt_number": 15
    },
    {
     "cell_type": "code",
     "collapsed": false,
     "input": [
      "float(6468)/9758"
     ],
     "language": "python",
     "metadata": {},
     "outputs": [
      {
       "metadata": {},
       "output_type": "pyout",
       "prompt_number": 16,
       "text": [
        "0.6628407460545194"
       ]
      }
     ],
     "prompt_number": 16
    },
    {
     "cell_type": "code",
     "collapsed": false,
     "input": [
      "bu['gloss'] = bu.gloss.map(lambda x: x.lower())"
     ],
     "language": "python",
     "metadata": {},
     "outputs": [],
     "prompt_number": 17
    },
    {
     "cell_type": "code",
     "collapsed": false,
     "input": [
      "subtl = subtl[['SUBTLCD','gloss']]"
     ],
     "language": "python",
     "metadata": {},
     "outputs": [],
     "prompt_number": 18
    },
    {
     "cell_type": "code",
     "collapsed": false,
     "input": [
      "subtl.set_index('gloss', inplace=True)"
     ],
     "language": "python",
     "metadata": {},
     "outputs": [],
     "prompt_number": 19
    },
    {
     "cell_type": "code",
     "collapsed": false,
     "input": [
      "bu = bu.join(subtl, on='gloss')"
     ],
     "language": "python",
     "metadata": {},
     "outputs": [],
     "prompt_number": 20
    },
    {
     "cell_type": "code",
     "collapsed": false,
     "input": [
      "bu = bu[bu.SUBTLCD.notnull()]"
     ],
     "language": "python",
     "metadata": {},
     "outputs": [],
     "prompt_number": 21
    },
    {
     "cell_type": "code",
     "collapsed": false,
     "input": [
      "len(bu.gloss.value_counts())"
     ],
     "language": "python",
     "metadata": {},
     "outputs": [
      {
       "metadata": {},
       "output_type": "pyout",
       "prompt_number": 22,
       "text": [
        "1629"
       ]
      }
     ],
     "prompt_number": 22
    },
    {
     "cell_type": "code",
     "collapsed": false,
     "input": [
      "bu = bu[bu.dshs.notnull()]\n",
      "bu = bu[bu.dehs.notnull()]"
     ],
     "language": "python",
     "metadata": {},
     "outputs": [],
     "prompt_number": 23
    },
    {
     "cell_type": "code",
     "collapsed": false,
     "input": [
      "len(bu.index)"
     ],
     "language": "python",
     "metadata": {},
     "outputs": [
      {
       "metadata": {},
       "output_type": "pyout",
       "prompt_number": 24,
       "text": [
        "6438"
       ]
      }
     ],
     "prompt_number": 24
    },
    {
     "cell_type": "code",
     "collapsed": false,
     "input": [
      "bu.rename(columns={'SUBTLCD':'freq'}, inplace=True)"
     ],
     "language": "python",
     "metadata": {},
     "outputs": [],
     "prompt_number": 25
    },
    {
     "cell_type": "code",
     "collapsed": false,
     "input": [
      "len(bu[bu.ndshs.isnull()])"
     ],
     "language": "python",
     "metadata": {},
     "outputs": [
      {
       "metadata": {},
       "output_type": "pyout",
       "prompt_number": 26,
       "text": [
        "2142"
       ]
      }
     ],
     "prompt_number": 26
    },
    {
     "cell_type": "code",
     "collapsed": false,
     "input": [
      "len(bu[bu.ndshs.notnull()])"
     ],
     "language": "python",
     "metadata": {},
     "outputs": [
      {
       "metadata": {},
       "output_type": "pyout",
       "prompt_number": 27,
       "text": [
        "4296"
       ]
      }
     ],
     "prompt_number": 27
    },
    {
     "cell_type": "code",
     "collapsed": false,
     "input": [
      "len(bu[(bu.ndshs.notnull()) & (bu.ndehs.notnull())])"
     ],
     "language": "python",
     "metadata": {},
     "outputs": [
      {
       "metadata": {},
       "output_type": "pyout",
       "prompt_number": 28,
       "text": [
        "4296"
       ]
      }
     ],
     "prompt_number": 28
    },
    {
     "cell_type": "code",
     "collapsed": false,
     "input": [
      "len(bu[(bu.ndshs.isnull()) & (bu.ndehs.isnull())])"
     ],
     "language": "python",
     "metadata": {},
     "outputs": [
      {
       "metadata": {},
       "output_type": "pyout",
       "prompt_number": 29,
       "text": [
        "2140"
       ]
      }
     ],
     "prompt_number": 29
    },
    {
     "cell_type": "code",
     "collapsed": false,
     "input": [
      "len(bu[(bu.ndshs.notnull()) & (bu.ndehs.isnull())])"
     ],
     "language": "python",
     "metadata": {},
     "outputs": [
      {
       "metadata": {},
       "output_type": "pyout",
       "prompt_number": 30,
       "text": [
        "0"
       ]
      }
     ],
     "prompt_number": 30
    },
    {
     "cell_type": "code",
     "collapsed": false,
     "input": [
      "bu[(bu.ndshs.isnull()) & (bu.ndehs.notnull())]"
     ],
     "language": "python",
     "metadata": {},
     "outputs": [
      {
       "html": [
        "<div style=\"max-height:1000px;max-width:1500px;overflow:auto;\">\n",
        "<table border=\"1\" class=\"dataframe\">\n",
        "  <thead>\n",
        "    <tr style=\"text-align: right;\">\n",
        "      <th></th>\n",
        "      <th>consultant</th>\n",
        "      <th>gloss</th>\n",
        "      <th>dshs</th>\n",
        "      <th>ndshs</th>\n",
        "      <th>dehs</th>\n",
        "      <th>ndehs</th>\n",
        "      <th>duration</th>\n",
        "      <th>freq</th>\n",
        "    </tr>\n",
        "  </thead>\n",
        "  <tbody>\n",
        "    <tr>\n",
        "      <th>8569</th>\n",
        "      <td> Liz</td>\n",
        "      <td> tomato</td>\n",
        "      <td> 1</td>\n",
        "      <td> NaN</td>\n",
        "      <td> 1</td>\n",
        "      <td> 1</td>\n",
        "      <td> 34</td>\n",
        "      <td> 2.42</td>\n",
        "    </tr>\n",
        "    <tr>\n",
        "      <th>8570</th>\n",
        "      <td> Liz</td>\n",
        "      <td> tomato</td>\n",
        "      <td> 1</td>\n",
        "      <td> NaN</td>\n",
        "      <td> 1</td>\n",
        "      <td> 1</td>\n",
        "      <td> 35</td>\n",
        "      <td> 2.42</td>\n",
        "    </tr>\n",
        "  </tbody>\n",
        "</table>\n",
        "<p>2 rows \u00d7 8 columns</p>\n",
        "</div>"
       ],
       "metadata": {},
       "output_type": "pyout",
       "prompt_number": 31,
       "text": [
        "     consultant   gloss dshs ndshs dehs ndehs  duration  freq\n",
        "8569        Liz  tomato    1   NaN    1     1        34  2.42\n",
        "8570        Liz  tomato    1   NaN    1     1        35  2.42\n",
        "\n",
        "[2 rows x 8 columns]"
       ]
      }
     ],
     "prompt_number": 31
    },
    {
     "cell_type": "code",
     "collapsed": false,
     "input": [
      "bu = bu[~((bu.ndshs.isnull()) & (bu.ndehs.notnull()))]"
     ],
     "language": "python",
     "metadata": {},
     "outputs": [],
     "prompt_number": 32
    },
    {
     "cell_type": "code",
     "collapsed": false,
     "input": [
      "bu = bu[~((bu.ndshs.notnull()) & (bu.ndehs.isnull()))]"
     ],
     "language": "python",
     "metadata": {},
     "outputs": [],
     "prompt_number": 33
    },
    {
     "cell_type": "code",
     "collapsed": false,
     "input": [
      "len(bu.index)"
     ],
     "language": "python",
     "metadata": {},
     "outputs": [
      {
       "metadata": {},
       "output_type": "pyout",
       "prompt_number": 34,
       "text": [
        "6436"
       ]
      }
     ],
     "prompt_number": 34
    },
    {
     "cell_type": "code",
     "collapsed": false,
     "input": [
      "bu['ohs'] = (bu.ndshs.isnull()) & (bu.dshs == bu.dehs)"
     ],
     "language": "python",
     "metadata": {},
     "outputs": [],
     "prompt_number": 35
    },
    {
     "cell_type": "code",
     "collapsed": false,
     "input": [
      "bu['ohd'] = (bu.ndshs.isnull()) & (bu.dshs != bu.dehs)"
     ],
     "language": "python",
     "metadata": {},
     "outputs": [],
     "prompt_number": 36
    },
    {
     "cell_type": "code",
     "collapsed": false,
     "input": [
      "bu['thss'] = (bu.ndshs.notnull()) & (bu.dshs == bu.dehs) & (bu.ndshs == bu.ndehs)"
     ],
     "language": "python",
     "metadata": {},
     "outputs": [],
     "prompt_number": 37
    },
    {
     "cell_type": "code",
     "collapsed": false,
     "input": [
      "bu['thsd'] = (bu.ndshs.notnull()) & (bu.dshs == bu.dehs) & (bu.ndshs != bu.ndehs)"
     ],
     "language": "python",
     "metadata": {},
     "outputs": [],
     "prompt_number": 38
    },
    {
     "cell_type": "code",
     "collapsed": false,
     "input": [
      "bu['thds'] = (bu.ndshs.notnull()) & (bu.dshs != bu.dehs) & (bu.ndshs == bu.ndehs)"
     ],
     "language": "python",
     "metadata": {},
     "outputs": [],
     "prompt_number": 39
    },
    {
     "cell_type": "code",
     "collapsed": false,
     "input": [
      "bu['thdd'] = (bu.ndshs.notnull()) & (bu.dshs != bu.dehs) & (bu.ndshs != bu.ndehs)"
     ],
     "language": "python",
     "metadata": {},
     "outputs": [],
     "prompt_number": 40
    },
    {
     "cell_type": "code",
     "collapsed": false,
     "input": [
      "del bu['dshs']\n",
      "del bu['dehs']\n",
      "del bu['ndshs']\n",
      "del bu['ndehs']"
     ],
     "language": "python",
     "metadata": {},
     "outputs": [],
     "prompt_number": 41
    },
    {
     "cell_type": "code",
     "collapsed": false,
     "input": [
      "bu.head()"
     ],
     "language": "python",
     "metadata": {},
     "outputs": [
      {
       "html": [
        "<div style=\"max-height:1000px;max-width:1500px;overflow:auto;\">\n",
        "<table border=\"1\" class=\"dataframe\">\n",
        "  <thead>\n",
        "    <tr style=\"text-align: right;\">\n",
        "      <th></th>\n",
        "      <th>consultant</th>\n",
        "      <th>gloss</th>\n",
        "      <th>duration</th>\n",
        "      <th>freq</th>\n",
        "      <th>ohs</th>\n",
        "      <th>ohd</th>\n",
        "      <th>thss</th>\n",
        "      <th>thsd</th>\n",
        "      <th>thds</th>\n",
        "      <th>thdd</th>\n",
        "    </tr>\n",
        "  </thead>\n",
        "  <tbody>\n",
        "    <tr>\n",
        "      <th>2</th>\n",
        "      <td>   Liz</td>\n",
        "      <td> twenty</td>\n",
        "      <td> 26</td>\n",
        "      <td> 10.63</td>\n",
        "      <td> False</td>\n",
        "      <td>  True</td>\n",
        "      <td> False</td>\n",
        "      <td> False</td>\n",
        "      <td> False</td>\n",
        "      <td> False</td>\n",
        "    </tr>\n",
        "    <tr>\n",
        "      <th>3</th>\n",
        "      <td> Tyler</td>\n",
        "      <td> twenty</td>\n",
        "      <td> 80</td>\n",
        "      <td> 10.63</td>\n",
        "      <td> False</td>\n",
        "      <td>  True</td>\n",
        "      <td> False</td>\n",
        "      <td> False</td>\n",
        "      <td> False</td>\n",
        "      <td> False</td>\n",
        "    </tr>\n",
        "    <tr>\n",
        "      <th>4</th>\n",
        "      <td> Naomi</td>\n",
        "      <td> twenty</td>\n",
        "      <td> 74</td>\n",
        "      <td> 10.63</td>\n",
        "      <td> False</td>\n",
        "      <td>  True</td>\n",
        "      <td> False</td>\n",
        "      <td> False</td>\n",
        "      <td> False</td>\n",
        "      <td> False</td>\n",
        "    </tr>\n",
        "    <tr>\n",
        "      <th>5</th>\n",
        "      <td> Brady</td>\n",
        "      <td> twenty</td>\n",
        "      <td> 28</td>\n",
        "      <td> 10.63</td>\n",
        "      <td> False</td>\n",
        "      <td>  True</td>\n",
        "      <td> False</td>\n",
        "      <td> False</td>\n",
        "      <td> False</td>\n",
        "      <td> False</td>\n",
        "    </tr>\n",
        "    <tr>\n",
        "      <th>7</th>\n",
        "      <td>   Liz</td>\n",
        "      <td>  alone</td>\n",
        "      <td> 75</td>\n",
        "      <td> 70.58</td>\n",
        "      <td>  True</td>\n",
        "      <td> False</td>\n",
        "      <td> False</td>\n",
        "      <td> False</td>\n",
        "      <td> False</td>\n",
        "      <td> False</td>\n",
        "    </tr>\n",
        "  </tbody>\n",
        "</table>\n",
        "<p>5 rows \u00d7 10 columns</p>\n",
        "</div>"
       ],
       "metadata": {},
       "output_type": "pyout",
       "prompt_number": 42,
       "text": [
        "  consultant   gloss  duration   freq    ohs    ohd   thss   thsd   thds  \\\n",
        "2        Liz  twenty        26  10.63  False   True  False  False  False   \n",
        "3      Tyler  twenty        80  10.63  False   True  False  False  False   \n",
        "4      Naomi  twenty        74  10.63  False   True  False  False  False   \n",
        "5      Brady  twenty        28  10.63  False   True  False  False  False   \n",
        "7        Liz   alone        75  70.58   True  False  False  False  False   \n",
        "\n",
        "    thdd  \n",
        "2  False  \n",
        "3  False  \n",
        "4  False  \n",
        "5  False  \n",
        "7  False  \n",
        "\n",
        "[5 rows x 10 columns]"
       ]
      }
     ],
     "prompt_number": 42
    },
    {
     "cell_type": "code",
     "collapsed": false,
     "input": [
      "bu.reset_index(drop=True, inplace=True)"
     ],
     "language": "python",
     "metadata": {},
     "outputs": [],
     "prompt_number": 43
    },
    {
     "cell_type": "code",
     "collapsed": false,
     "input": [
      "bu.to_csv('/home/damoncrockett/PSYC201/group_project/handshape_and_frequency_clean.csv')"
     ],
     "language": "python",
     "metadata": {},
     "outputs": [],
     "prompt_number": 44
    },
    {
     "cell_type": "code",
     "collapsed": false,
     "input": [],
     "language": "python",
     "metadata": {},
     "outputs": [],
     "prompt_number": 44
    },
    {
     "cell_type": "code",
     "collapsed": false,
     "input": [],
     "language": "python",
     "metadata": {},
     "outputs": [],
     "prompt_number": 44
    },
    {
     "cell_type": "code",
     "collapsed": false,
     "input": [],
     "language": "python",
     "metadata": {},
     "outputs": [],
     "prompt_number": 44
    },
    {
     "cell_type": "code",
     "collapsed": false,
     "input": [],
     "language": "python",
     "metadata": {},
     "outputs": [],
     "prompt_number": 44
    }
   ],
   "metadata": {}
  }
 ]
}